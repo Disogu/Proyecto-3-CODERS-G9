{
  "metadata": {
    "kernelspec": {
      "name": "python",
      "display_name": "Python (Pyodide)",
      "language": "python"
    },
    "language_info": {
      "codemirror_mode": {
        "name": "python",
        "version": 3
      },
      "file_extension": ".py",
      "mimetype": "text/x-python",
      "name": "python",
      "nbconvert_exporter": "python",
      "pygments_lexer": "ipython3",
      "version": "3.8"
    }
  },
  "nbformat_minor": 5,
  "nbformat": 4,
  "cells": [
    {
      "id": "086325c0-3782-47b4-82e8-772640612fcd",
      "cell_type": "code",
      "source": "# 1. Librerías\nimport pandas as pd\nimport numpy as np\nimport seaborn as sns\nimport matplotlib.pyplot as plt\nfrom sklearn.datasets import fetch_california_housing\n\n# 2. Cargar dataset\ndata = fetch_california_housing(as_frame=True)\ndf = data.frame\ndf.head()\n\n# 3. Información general\ndf.info()\ndf.describe()\n\n# 4. Valores nulos\nprint(\"Valores nulos por columna:\")\nprint(df.isnull().sum())\n\n# 5. Distribución de variables\ndf.hist(figsize=(14,10), bins=30)\nplt.tight_layout()\nplt.show()\n\n# 6. Boxplots\nplt.figure(figsize=(16,8))\nsns.boxplot(data=df, orient=\"h\")\nplt.title(\"Boxplots de las variables\")\nplt.show()\n\n# 7. Correlación\nplt.figure(figsize=(10,6))\nsns.heatmap(df.corr(), annot=True, cmap='coolwarm')\nplt.title(\"Mapa de calor de correlaciones\")\nplt.show()\n\n",
      "metadata": {
        "trusted": true
      },
      "outputs": [],
      "execution_count": null
    },
    {
      "id": "4c80fe71-15bb-4b61-87ec-5c27565e4c03",
      "cell_type": "code",
      "source": "# 1. Librerías\nimport pandas as pd\nfrom sklearn.datasets import fetch_california_housing\nfrom sklearn.preprocessing import StandardScaler\nfrom sklearn.feature_selection import mutual_info_regression\nfrom sklearn.model_selection import train_test_split\nimport matplotlib.pyplot as plt\n\n# 2. Cargar datos\ndata = fetch_california_housing(as_frame=True)\ndf = data.frame\n\nX = df.drop('MedHouseVal', axis=1)\ny = df['MedHouseVal']\n\n# 3. Información mutua\nmi = mutual_info_regression(X, y)\nmi_series = pd.Series(mi, index=X.columns).sort_values(ascending=False)\n\n# 4. Visualización\nmi_series.plot(kind='bar', figsize=(10,6), title=\"Información mutua con el target\")\nplt.show()\n\n# 5. Selección de variables más importantes\ntop_features = mi_series.head(6).index\nX_selected = X[top_features]\n\n# 6. Escalado\nscaler = StandardScaler()\nX_scaled = scaler.fit_transform(X_selected)\n\n# 7. División\nX_train, X_test, y_train, y_test = train_test_split(X_scaled, y, test_size=0.2, random_state=42)\n\n# 8. Guardar datasets\npd.DataFrame(X_train, columns=top_features).to_csv(\"X_train.csv\", index=False)\npd.DataFrame(X_test, columns=top_features).to_csv(\"X_test.csv\", index=False)\ny_train.to_csv(\"y_train.csv\", index=False)\ny_test.to_csv(\"y_test.csv\", index=False)\n",
      "metadata": {
        "trusted": true
      },
      "outputs": [],
      "execution_count": null
    },
    {
      "id": "5784fc49-dde0-4df6-b2e9-5f3b48f4b20b",
      "cell_type": "code",
      "source": "# 1. Librerías\nimport pandas as pd\n!pip install lazypredict -q\nfrom lazypredict.Supervised import LazyRegressor\nimport mlflow\n\n# 2. Cargar datos\nX_train = pd.read_csv(\"X_train.csv\")\nX_test = pd.read_csv(\"X_test.csv\")\ny_train = pd.read_csv(\"y_train.csv\").squeeze()\ny_test = pd.read_csv(\"y_test.csv\").squeeze()\n\n# 3. LazyPredict\nreg = LazyRegressor(verbose=0, ignore_warnings=True)\nmodels, predictions = reg.fit(X_train, X_test, y_train, y_test)\n\n# 4. Resultados\nprint(models)\nmodels.to_csv(\"model_comparison.csv\")\n",
      "metadata": {
        "trusted": true
      },
      "outputs": [],
      "execution_count": null
    },
    {
      "id": "7bd6152e-92af-4953-9232-4d4d9ac93a61",
      "cell_type": "code",
      "source": "# 1. Librerías\nimport pandas as pd\nfrom sklearn.ensemble import GradientBoostingRegressor\nfrom sklearn.metrics import mean_squared_error, mean_absolute_error\nimport mlflow\nimport mlflow.sklearn\n\n# 2. Cargar datos\nX_train = pd.read_csv(\"X_train.csv\")\nX_test = pd.read_csv(\"X_test.csv\")\ny_train = pd.read_csv(\"y_train.csv\").squeeze()\ny_test = pd.read_csv(\"y_test.csv\").squeeze()\n\n# 3. Modelo final\nmodel = GradientBoostingRegressor(random_state=42)\nmodel.fit(X_train, y_train)\ny_pred = model.predict(X_test)\n\n# 4. Métricas\nmse = mean_squared_error(y_test, y_pred)\nmae = mean_absolute_error(y_test, y_pred)\n\nprint(\"Mean Squared Error:\", mse)\nprint(\"Mean Absolute Error:\", mae)\n\n# 5. MLflow logging\nwith mlflow.start_run():\n    mlflow.log_param(\"model\", \"GradientBoostingRegressor\")\n    mlflow.log_metric(\"MSE\", mse)\n    mlflow.log_metric(\"MAE\", mae)\n    mlflow.sklearn.log_model(model, \"gradient_boosting_model\")\n\nprint(\"Modelo registrado en MLflow correctamente\")\n",
      "metadata": {
        "trusted": true
      },
      "outputs": [],
      "execution_count": null
    }
  ]
}